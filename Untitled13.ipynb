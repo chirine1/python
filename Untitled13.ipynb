{
 "cells": [
  {
   "cell_type": "markdown",
   "id": "a596c908",
   "metadata": {},
   "source": [
    "Question 1"
   ]
  },
  {
   "cell_type": "code",
   "execution_count": 1,
   "id": "4382e797",
   "metadata": {
    "ExecuteTime": {
     "end_time": "2022-07-04T21:48:09.172185Z",
     "start_time": "2022-07-04T21:48:09.163215Z"
    }
   },
   "outputs": [
    {
     "name": "stdout",
     "output_type": "stream",
     "text": [
      "[2002, 2009, 2016, 2023, 2030, 2037, 2044, 2051, 2058, 2065, 2072, 2079, 2086, 2093, 2100, 2107, 2114, 2121, 2128, 2135, 2142, 2149, 2156, 2163, 2170, 2177, 2184, 2191, 2198, 2205, 2212, 2219, 2226, 2233, 2240, 2247, 2254, 2261, 2268, 2275, 2282, 2289, 2296, 2303, 2310, 2317, 2324, 2331, 2338, 2345, 2352, 2359, 2366, 2373, 2380, 2387, 2394, 2401, 2408, 2415, 2422, 2429, 2436, 2443, 2450, 2457, 2464, 2471, 2478, 2485, 2492, 2499, 2506, 2513, 2520, 2527, 2534, 2541, 2548, 2555, 2562, 2569, 2576, 2583, 2590, 2597, 2604, 2611, 2618, 2625, 2632, 2639, 2646, 2653, 2660, 2667, 2674, 2681, 2688, 2695, 2702, 2709, 2716, 2723, 2730, 2737, 2744, 2751, 2758, 2765, 2772, 2779, 2786, 2793, 2800, 2807, 2814, 2821, 2828, 2835, 2842, 2849, 2856, 2863, 2870, 2877, 2884, 2891, 2898, 2905, 2912, 2919, 2926, 2933, 2940, 2947, 2954, 2961, 2968, 2975, 2982, 2989, 2996, 3003, 3010, 3017, 3024, 3031, 3038, 3045, 3052, 3059, 3066, 3073, 3080, 3087, 3094, 3101, 3108, 3115, 3122, 3129, 3136, 3143, 3150, 3157, 3164, 3171, 3178, 3185, 3192, 3199]\n"
     ]
    }
   ],
   "source": [
    "liste=[ i for i in range(2000,3201) if i%7 ==0 and i/5 !=0]\n",
    "print(liste)"
   ]
  },
  {
   "cell_type": "markdown",
   "id": "8bcd9b7e",
   "metadata": {},
   "source": [
    "Question 2"
   ]
  },
  {
   "cell_type": "code",
   "execution_count": 2,
   "id": "19f283bb",
   "metadata": {
    "ExecuteTime": {
     "end_time": "2022-07-04T21:48:49.552695Z",
     "start_time": "2022-07-04T21:48:48.138753Z"
    }
   },
   "outputs": [
    {
     "name": "stdout",
     "output_type": "stream",
     "text": [
      "entrez un nombre5\n",
      "le factorielle de n est  120\n"
     ]
    }
   ],
   "source": [
    "n=int(input(\"entrez un nombre\"))\n",
    "fact=1\n",
    "for i in range(1,n+1):\n",
    "    fact=fact*i\n",
    "print(\"le factorielle de n est \",fact)     "
   ]
  },
  {
   "cell_type": "markdown",
   "id": "e6b81a45",
   "metadata": {},
   "source": [
    "Question 3"
   ]
  },
  {
   "cell_type": "code",
   "execution_count": 3,
   "id": "3c762f62",
   "metadata": {
    "ExecuteTime": {
     "end_time": "2022-07-04T21:49:41.884890Z",
     "start_time": "2022-07-04T21:49:40.144704Z"
    }
   },
   "outputs": [
    {
     "name": "stdout",
     "output_type": "stream",
     "text": [
      "entrez un nombre8\n",
      "{1: 1, 2: 4, 3: 9, 4: 16, 5: 25, 6: 36, 7: 49, 8: 64}\n"
     ]
    }
   ],
   "source": [
    "n=int(input(\"entrez un nombre\"))\n",
    "dictio={i:i*i for i in range (1,n+1)}\n",
    "print(dictio)"
   ]
  },
  {
   "cell_type": "markdown",
   "id": "9b65dcaa",
   "metadata": {},
   "source": [
    "Question 4 "
   ]
  },
  {
   "cell_type": "code",
   "execution_count": 4,
   "id": "df9e0642",
   "metadata": {
    "ExecuteTime": {
     "end_time": "2022-07-04T21:50:37.361055Z",
     "start_time": "2022-07-04T21:50:20.728715Z"
    }
   },
   "outputs": [
    {
     "name": "stdout",
     "output_type": "stream",
     "text": [
      "Enter the string:kitten\n",
      "Enter the index of the character to remove:2\n",
      "new string :  kiten\n"
     ]
    }
   ],
   "source": [
    "string=input(\"Enter the string:\")\n",
    "n=int(input(\"Enter the index of the character to remove:\"))\n",
    "s1=string[:n]\n",
    "s2=string[n+1:]\n",
    "print(\"new string : \",s1+s2)"
   ]
  },
  {
   "cell_type": "markdown",
   "id": "2ec5377d",
   "metadata": {},
   "source": [
    "Question 5 "
   ]
  },
  {
   "cell_type": "code",
   "execution_count": 5,
   "id": "0577b4d7",
   "metadata": {
    "ExecuteTime": {
     "end_time": "2022-07-04T21:51:18.002294Z",
     "start_time": "2022-07-04T21:51:17.980917Z"
    }
   },
   "outputs": [
    {
     "name": "stdout",
     "output_type": "stream",
     "text": [
      "[[0, 1], [2, 3], [4, 5]]\n"
     ]
    }
   ],
   "source": [
    "import numpy as np \n",
    "a= np.array([[0,1],[2,3],[4,5]])\n",
    "liste= a.tolist()\n",
    "print(liste)"
   ]
  },
  {
   "cell_type": "markdown",
   "id": "8135ad52",
   "metadata": {},
   "source": [
    "Question 6"
   ]
  },
  {
   "cell_type": "code",
   "execution_count": 6,
   "id": "9c1fab2f",
   "metadata": {
    "ExecuteTime": {
     "end_time": "2022-07-04T21:52:00.985894Z",
     "start_time": "2022-07-04T21:52:00.902933Z"
    }
   },
   "outputs": [
    {
     "name": "stdout",
     "output_type": "stream",
     "text": [
      "the covariance matrix of the two given arrays is  [[ 1. -1.]\n",
      " [-1.  1.]]\n"
     ]
    }
   ],
   "source": [
    "import numpy as np\n",
    "original_array1=np.array([0,1,2])\n",
    "original_array2=np.array([2,1,0])\n",
    "print(\"the covariance matrix of the two given arrays is \",np.cov(original_array1,original_array2))"
   ]
  },
  {
   "cell_type": "markdown",
   "id": "3c20ad48",
   "metadata": {},
   "source": [
    "Question 7"
   ]
  },
  {
   "cell_type": "code",
   "execution_count": 8,
   "id": "c57c4eb3",
   "metadata": {
    "ExecuteTime": {
     "end_time": "2022-07-04T21:53:23.340328Z",
     "start_time": "2022-07-04T21:53:15.344398Z"
    }
   },
   "outputs": [
    {
     "name": "stdout",
     "output_type": "stream",
     "text": [
      "D:100,150,180\n",
      "[18, 22, 24]\n"
     ]
    }
   ],
   "source": [
    "from math import sqrt\n",
    "C=50\n",
    "H=30\n",
    "valeurs = input(\"D:\")\n",
    "valeurs = valeurs.split(',')\n",
    "liste = []\n",
    "for D in valeurs:\n",
    "    Q = round(sqrt(2 * C * int(D) / H))\n",
    "    liste.append(Q)\n",
    "print(liste)"
   ]
  },
  {
   "cell_type": "code",
   "execution_count": null,
   "id": "a5a758e8",
   "metadata": {},
   "outputs": [],
   "source": []
  },
  {
   "cell_type": "code",
   "execution_count": null,
   "id": "6d5e7613",
   "metadata": {},
   "outputs": [],
   "source": []
  },
  {
   "cell_type": "code",
   "execution_count": null,
   "id": "32912049",
   "metadata": {},
   "outputs": [],
   "source": []
  },
  {
   "cell_type": "code",
   "execution_count": null,
   "id": "71c2dc28",
   "metadata": {},
   "outputs": [],
   "source": []
  },
  {
   "cell_type": "code",
   "execution_count": null,
   "id": "265516a2",
   "metadata": {},
   "outputs": [],
   "source": []
  },
  {
   "cell_type": "code",
   "execution_count": null,
   "id": "7b2a58dd",
   "metadata": {},
   "outputs": [],
   "source": []
  },
  {
   "cell_type": "code",
   "execution_count": null,
   "id": "19906095",
   "metadata": {},
   "outputs": [],
   "source": []
  },
  {
   "cell_type": "code",
   "execution_count": null,
   "id": "469f8a8d",
   "metadata": {},
   "outputs": [],
   "source": []
  },
  {
   "cell_type": "code",
   "execution_count": null,
   "id": "1e3ecccb",
   "metadata": {},
   "outputs": [],
   "source": []
  },
  {
   "cell_type": "code",
   "execution_count": null,
   "id": "f9973fe7",
   "metadata": {},
   "outputs": [],
   "source": []
  }
 ],
 "metadata": {
  "kernelspec": {
   "display_name": "Python 3 (ipykernel)",
   "language": "python",
   "name": "python3"
  },
  "language_info": {
   "codemirror_mode": {
    "name": "ipython",
    "version": 3
   },
   "file_extension": ".py",
   "mimetype": "text/x-python",
   "name": "python",
   "nbconvert_exporter": "python",
   "pygments_lexer": "ipython3",
   "version": "3.9.12"
  },
  "toc": {
   "base_numbering": 1,
   "nav_menu": {},
   "number_sections": true,
   "sideBar": true,
   "skip_h1_title": false,
   "title_cell": "Table of Contents",
   "title_sidebar": "Contents",
   "toc_cell": false,
   "toc_position": {},
   "toc_section_display": true,
   "toc_window_display": false
  },
  "varInspector": {
   "cols": {
    "lenName": 16,
    "lenType": 16,
    "lenVar": 40
   },
   "kernels_config": {
    "python": {
     "delete_cmd_postfix": "",
     "delete_cmd_prefix": "del ",
     "library": "var_list.py",
     "varRefreshCmd": "print(var_dic_list())"
    },
    "r": {
     "delete_cmd_postfix": ") ",
     "delete_cmd_prefix": "rm(",
     "library": "var_list.r",
     "varRefreshCmd": "cat(var_dic_list()) "
    }
   },
   "types_to_exclude": [
    "module",
    "function",
    "builtin_function_or_method",
    "instance",
    "_Feature"
   ],
   "window_display": false
  }
 },
 "nbformat": 4,
 "nbformat_minor": 5
}
